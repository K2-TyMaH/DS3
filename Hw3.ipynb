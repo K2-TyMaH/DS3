{
  "cells": [
    {
      "cell_type": "code",
      "execution_count": 2,
      "id": "74a5778d-a600-40e4-bb17-e138513ab37c",
      "metadata": {
        "id": "74a5778d-a600-40e4-bb17-e138513ab37c"
      },
      "outputs": [],
      "source": [
        "import numpy as np\n",
        "import pandas as pd"
      ]
    },
    {
      "cell_type": "code",
      "execution_count": 3,
      "id": "56a61c23-b0d4-43a3-9910-4f5b714c9de0",
      "metadata": {
        "id": "56a61c23-b0d4-43a3-9910-4f5b714c9de0"
      },
      "outputs": [],
      "source": [
        "def h_func(X, W):\n",
        "    return np.dot(X, W)\n",
        "\n",
        "def loss_func(X, Y, W):\n",
        "    m = X.shape[0]\n",
        "    return np.square(h_func(X, W) - Y).sum() / (2 * m)\n",
        "\n",
        "def grad_step(W, grad_w, learning_rate=0.001):\n",
        "    W = W - learning_rate * grad_w\n",
        "    return W\n",
        "\n",
        "def grad(X, Y, W):\n",
        "    m = X.shape[0]\n",
        "    np.dot(X.T, (h_func(X, W) - Y)) / m\n",
        "    return np.dot(X.T, (h_func(X, W) - Y)) / m\n",
        "\n",
        "def grad_descent(X, Y, W, num_iter=10000, learning_rate=0.001, epsilon=0.0000001):\n",
        "    loss = loss_func(X, Y, W)\n",
        "    loss_history = [loss]\n",
        "    for i in range(num_iter):\n",
        "        best = None\n",
        "        grad_w = grad(X, Y, W)\n",
        "        W = grad_step(W, grad_w, learning_rate=learning_rate)\n",
        "        loss = loss_func(X, Y, W)\n",
        "        if abs(loss - loss_history[-1]) < epsilon:\n",
        "            loss_history.append(loss)\n",
        "            best = grad_w\n",
        "            break\n",
        "    loss_history.append(loss)\n",
        "    return W, best, loss_history\n",
        "\n",
        "def normalizer(value):\n",
        "    return (value - value.mean()) / value.std()"
      ]
    },
    {
      "cell_type": "code",
      "execution_count": 5,
      "id": "2712f459-7ca6-4c7c-bd55-41d6190656fd",
      "metadata": {
        "id": "2712f459-7ca6-4c7c-bd55-41d6190656fd"
      },
      "outputs": [],
      "source": [
        "df = pd.read_csv('Housing.csv')"
      ]
    },
    {
      "cell_type": "code",
      "execution_count": 7,
      "id": "d57c643b-38b6-44e6-bc2e-909c71aaec28",
      "metadata": {
        "id": "d57c643b-38b6-44e6-bc2e-909c71aaec28"
      },
      "outputs": [],
      "source": [
        "needed_df = pd.DataFrame()"
      ]
    },
    {
      "cell_type": "code",
      "execution_count": 8,
      "id": "982ad5ae-7d98-477b-a214-f05f91b2dc07",
      "metadata": {
        "id": "982ad5ae-7d98-477b-a214-f05f91b2dc07"
      },
      "outputs": [],
      "source": [
        "needed_df['price'] = normalizer(df['price'])\n",
        "needed_df['area'] = normalizer(df['area'])\n",
        "needed_df['bedrooms'] = normalizer(df['bedrooms'])\n",
        "needed_df['bathrooms'] = normalizer(df['bathrooms'])"
      ]
    },
    {
      "cell_type": "code",
      "execution_count": 9,
      "id": "dd76d989-840a-47b9-ab91-08c4b199e40c",
      "metadata": {
        "id": "dd76d989-840a-47b9-ab91-08c4b199e40c"
      },
      "outputs": [],
      "source": [
        "Y = needed_df[\"price\"].values.reshape(-1, 1)\n",
        "X = needed_df[['area', 'bathrooms', 'bedrooms']].values\n",
        "X = np.hstack((np.ones((X.shape[0], 1)), X))\n",
        "N = X.shape[1]\n",
        "W = np.linspace(0, 0, N).reshape((N, 1))"
      ]
    },
    {
      "cell_type": "code",
      "execution_count": 12,
      "id": "ec477dc6-9b15-4e9d-9071-08992b48ea90",
      "metadata": {
        "colab": {
          "base_uri": "https://localhost:8080/"
        },
        "id": "ec477dc6-9b15-4e9d-9071-08992b48ea90",
        "outputId": "2e7bae60-1042-4488-bf14-479115dca111"
      },
      "outputs": [
        {
          "output_type": "stream",
          "name": "stdout",
          "text": [
            "Value of loss function: 0.25598791811804855\n"
          ]
        }
      ],
      "source": [
        "W, best, loss_history = grad_descent(X, Y, W, 10000, learning_rate=0.001)\n",
        "loss = loss_history[-1]\n",
        "\n",
        "print(f'Value of loss function: {loss}')"
      ]
    },
    {
      "cell_type": "code",
      "execution_count": 14,
      "id": "50db32f0-0c2c-44e3-8fc8-dc47d44416c6",
      "metadata": {
        "colab": {
          "base_uri": "https://localhost:8080/"
        },
        "id": "50db32f0-0c2c-44e3-8fc8-dc47d44416c6",
        "outputId": "401f5e94-789a-455a-e870-36622c017f9b"
      },
      "outputs": [
        {
          "output_type": "stream",
          "name": "stdout",
          "text": [
            "Needed values: [[-3.69936497e-16]\n",
            " [ 4.39452085e-01]\n",
            " [ 3.72344423e-01]\n",
            " [ 1.60528660e-01]]\n"
          ]
        }
      ],
      "source": [
        "weights = np.dot(np.linalg.inv(np.dot(X.T, X)), np.dot(X.T, Y))\n",
        "analytic = loss_func(X, Y, weights)\n",
        "print(f'Needed values: {weights}')"
      ]
    },
    {
      "cell_type": "code",
      "execution_count": 16,
      "id": "38272cc1-a62b-469b-bdae-102ad6c5f6c1",
      "metadata": {
        "colab": {
          "base_uri": "https://localhost:8080/"
        },
        "id": "38272cc1-a62b-469b-bdae-102ad6c5f6c1",
        "outputId": "e04938a2-6d96-4033-8b33-a33f06da1787"
      },
      "outputs": [
        {
          "output_type": "stream",
          "name": "stdout",
          "text": [
            "Analytic value: 0.2559879006532141\n"
          ]
        }
      ],
      "source": [
        "print(f\"Analytic value: {analytic}\")"
      ]
    },
    {
      "cell_type": "code",
      "source": [
        "print(f\"Loss function value: {loss}\")"
      ],
      "metadata": {
        "colab": {
          "base_uri": "https://localhost:8080/"
        },
        "id": "USwoHHI_UbcU",
        "outputId": "a616fdb6-39c0-4460-c4d9-cabba18aaecf"
      },
      "id": "USwoHHI_UbcU",
      "execution_count": 17,
      "outputs": [
        {
          "output_type": "stream",
          "name": "stdout",
          "text": [
            "Loss function value: 0.25598791811804855\n"
          ]
        }
      ]
    }
  ],
  "metadata": {
    "kernelspec": {
      "display_name": "anaconda-panel-2023.05-py310",
      "language": "python",
      "name": "conda-env-anaconda-panel-2023.05-py310-py"
    },
    "language_info": {
      "codemirror_mode": {
        "name": "ipython",
        "version": 3
      },
      "file_extension": ".py",
      "mimetype": "text/x-python",
      "name": "python",
      "nbconvert_exporter": "python",
      "pygments_lexer": "ipython3",
      "version": "3.11.3"
    },
    "colab": {
      "provenance": []
    }
  },
  "nbformat": 4,
  "nbformat_minor": 5
}